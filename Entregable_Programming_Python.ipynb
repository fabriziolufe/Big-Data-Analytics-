{
  "nbformat": 4,
  "nbformat_minor": 0,
  "metadata": {
    "colab": {
      "name": "Entregable_Programming_Python.ipynb",
      "provenance": [],
      "authorship_tag": "ABX9TyPg9RJ7zJ64Cr3gM67XnANs",
      "include_colab_link": true
    },
    "kernelspec": {
      "name": "python3",
      "display_name": "Python 3"
    }
  },
  "cells": [
    {
      "cell_type": "markdown",
      "metadata": {
        "id": "view-in-github",
        "colab_type": "text"
      },
      "source": [
        "<a href=\"https://colab.research.google.com/github/fabriziolufe/Big-Data-Analytics-/blob/master/Entregable_Programming_Python.ipynb\" target=\"_parent\"><img src=\"https://colab.research.google.com/assets/colab-badge.svg\" alt=\"Open In Colab\"/></a>"
      ]
    },
    {
      "cell_type": "code",
      "metadata": {
        "id": "WvlRxgnrUnDC",
        "outputId": "6d06036f-34fa-470a-ec51-a5a3b4fc6238",
        "colab": {
          "base_uri": "https://localhost:8080/"
        }
      },
      "source": [
        "#importing libraries\n",
        "import numpy as np\n",
        "from scipy.optimize import minimize\n",
        "#defining functions\n",
        "def objective(x):\n",
        "  return x[0]*x[3]*(x[ 0 ]+x[ 1 ]+x[2])+x[2]\n",
        "\n",
        "def constraint1(x):\n",
        "  return x[0]*x[1]*x[2]*x[3]-25.0\n",
        "  \n",
        "def constraint2(x):\n",
        "    sum_eq=40.0\n",
        "    for i in range(4):\n",
        "      sum_eq = sum_eq-x[i]**2\n",
        "    return sum_eq\n",
        "\n",
        "  #defining theinitial guesses\n",
        "n=4\n",
        "x0=np.zeros(n)\n",
        "\n",
        "\n",
        "x0[0]=1.0\n",
        "\n",
        "x0[1]=5.0\n",
        "\n",
        "x0[2]=5.0\n",
        "\n",
        "x0[3]=1.0\n",
        "\n",
        "#defining the initial objective\n",
        "print('Initial SSE Objective: '+ str(objective(x0)))\n",
        "\n",
        "#optimize\n",
        "b=(1.0,5.0)\n",
        "bnds=(b,b,b,b)\n",
        "con1={'type': 'ineq', 'fun': constraint1}\n",
        "con2={'type': 'eq', 'fun': constraint2}\n",
        "cons=([con1,con2])\n",
        "solution=minimize(objective,x0,method='SLSQP',\\\n",
        "                  bounds=bnds,constraints=cons)\n",
        "x=solution.x\n",
        "\n",
        "#show final objective\n",
        "print('Final SSE Objective: ' + str(objective(x)))\n",
        "\n",
        "#print solution\n",
        "print('Solution')\n",
        "print('x1=' + str(x[0]))\n",
        "print('x2=' + str(x[1]))\n",
        "print('x3=' + str(x[2]))\n",
        "print('x4=' + str(x[3]))"
      ],
      "execution_count": 16,
      "outputs": [
        {
          "output_type": "stream",
          "text": [
            "Initial SSE Objective: 16.0\n",
            "Final SSE Objective: 17.01401724563517\n",
            "Solution\n",
            "x1=1.0\n",
            "x2=4.742996096883977\n",
            "x3=3.8211546234095715\n",
            "x4=1.379407645075325\n"
          ],
          "name": "stdout"
        }
      ]
    }
  ]
}